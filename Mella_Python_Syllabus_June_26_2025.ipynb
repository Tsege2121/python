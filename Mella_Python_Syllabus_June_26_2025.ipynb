{
 "cells": [
  {
   "cell_type": "markdown",
   "id": "36cd2a80",
   "metadata": {},
   "source": [
    "<div style=\"border:4px solid #1E90FF; background-color:#F0F8FF; padding:15px; border-radius:10px;\">\n",
    "  <h1 style=\"color:#DC143C; margin-top:0; text-align:center;\">📢 TSI TECHNOLOGY SERVICES LLC</h1>\n",
    "  <h2 style=\"color:green; margin-bottom:0; text-align:center;\">🚀 PYTHON-BASED DATA ANALYSIS TRAINING</h2>\n",
    "  <h3 style=\"margin-bottom:0; text-align:center;\">\n",
    "    🚀 <span style=\"color:blue;\">Tesfay T.</span> & <span style=\"color:green;\">Addisu T.</span>\n",
    "  </h3>\n",
    "</div>"
   ]
  },
  {
   "cell_type": "markdown",
   "id": "e7b0754c",
   "metadata": {},
   "source": [
    "# JULY 2025"
   ]
  },
  {
   "cell_type": "markdown",
   "id": "9aec1c81",
   "metadata": {},
   "source": [
    "# Week-I"
   ]
  },
  {
   "cell_type": "markdown",
   "id": "c3246f3a",
   "metadata": {},
   "source": [
    "## Basic Introduction Of Jupyter Notebook and Libraries"
   ]
  },
  {
   "cell_type": "markdown",
   "id": "dbcb40dc",
   "metadata": {},
   "source": [
    "<div style=\"border:4px solid #1E90FF; background-color:#F0F8FF; padding:10px; border-radius:10px;\">\n",
    "<h1 style=\"color:#DC143C;\">📢 Basic Introduction Of Jupyter Notebook and Libraries</h1>\n",
    "<ul>\n",
    "  <li><b>Introduction to Jupyter Notebook</b></li>\n",
    "  <li><b>Essential Python libraries (Pandas, NumPy, Matplotlib)</b></li>\n",
    "  <li><b>Loading and inspecting datasets</b></li>\n",
    "  <li style=\"color:green;\"><b>💡 Python basics (variables, loops, functions)</b></li>\n",
    "</ul>\n",
    "</div>"
   ]
  },
  {
   "cell_type": "markdown",
   "id": "d6961e43",
   "metadata": {},
   "source": [
    "# Week-II"
   ]
  },
  {
   "cell_type": "markdown",
   "id": "23b5fd23",
   "metadata": {},
   "source": [
    "<div style=\"border:4px solid #1E90FF; background-color:#F0F8FF; padding:10px; border-radius:10px;\">\n",
    "<h1 style=\"color:#DC143C;\">📢 Python Data Structures for Data Analysis</h1>\n",
    "<ul>\n",
    "  <li><b>Lists: Creation, indexing, slicing, methods</b></li>\n",
    "  <li><b>Tuples: Immutable sequences, packing/unpacking</b></li>\n",
    "  <li><b>Dictionaries: Key-value pairs, methods, use cases</b></li>\n",
    "  <li><b>Sets: Unique elements, set operations</b></li>\n",
    "  <li><b>Choosing appropriate data structures</b></li>\n",
    "  <li style=\"color:green;\"><b>💡 Practical applications in data analysis</b></li>\n",
    "</ul>\n",
    "</div>"
   ]
  },
  {
   "cell_type": "markdown",
   "id": "9b4d9f07",
   "metadata": {},
   "source": [
    "# Week-III"
   ]
  },
  {
   "cell_type": "markdown",
   "id": "f27146b2",
   "metadata": {},
   "source": [
    "<div style=\"border:4px solid #1E90FF; background-color:#F0F8FF; padding:10px; border-radius:10px;\">\n",
    "<h1 style=\"color:#DC143C;\">📢 Data Manipulation with Pandas</h1>\n",
    "<ul>\n",
    "  <li><b>Pandas DataFrames and Series</b></li>\n",
    "  <li><b>Indexing, filtering, and sorting data</b></li>\n",
    "  <li><b>Handling missing data</b></li>\n",
    "  <li style=\"color:green;\"><b>💡 Aggregating data (groupby, pivot tables)</b></li>\n",
    "</ul>\n",
    "</div>"
   ]
  },
  {
   "cell_type": "markdown",
   "id": "5bf48388",
   "metadata": {},
   "source": [
    "# Week-IV"
   ]
  },
  {
   "cell_type": "markdown",
   "id": "d2ba7ab4",
   "metadata": {},
   "source": [
    "<div style=\"border:4px solid #1E90FF; background-color:#F0F8FF; padding:10px; border-radius:10px;\">\n",
    "<h1 style=\"color:#DC143C;\">📢 Data Cleaning & Pre-processing</h1>\n",
    "<ul>\n",
    "  <li><b>Detecting Duplicates and Outliers</b></li>\n",
    "  <li><b>Removing duplicates and outliers</b></li>\n",
    "  <li><b>Data transformation (normalization, encoding)</b></li>\n",
    "  <li><b>Merging and joining datasets</b></li>\n",
    "  <li style=\"color:green;\"><b>💡 Working with dates and times</b></li>\n",
    "</ul>\n",
    "</div>"
   ]
  },
  {
   "cell_type": "markdown",
   "id": "3a51b0d4",
   "metadata": {},
   "source": [
    "# Week-V"
   ]
  },
  {
   "cell_type": "markdown",
   "id": "bebc97a1",
   "metadata": {},
   "source": [
    "<div style=\"border:4px solid #1E90FF; background-color:#F0F8FF; padding:10px; border-radius:10px;\">\n",
    "<h1 style=\"color:#DC143C;\">📢 Exploratory Data Analysis (EDA)</h1>\n",
    "<ul>\n",
    "  <li><b>Analytical Concepts in Statistics</b></li>\n",
    "  <li><b>Descriptive statistics (mean, median, variance)</b></li>\n",
    "  <li><b>Correlation and covariance</b></li>\n",
    "  <li><b>Univariate and multivariate analysis</b></li>\n",
    "  <li style=\"color:green;\"><b>💡  Hands-on EDA project</b></li>\n",
    "</ul>\n",
    "</div>"
   ]
  },
  {
   "cell_type": "markdown",
   "id": "308b7265",
   "metadata": {},
   "source": [
    "# Week-VI"
   ]
  },
  {
   "cell_type": "markdown",
   "id": "3fc7ae29",
   "metadata": {},
   "source": [
    "<div style=\"border:4px solid #1E90FF; background-color:#F0F8FF; padding:15px; border-radius:10px;\">\n",
    "  <h1 style=\"color:#DC143C; margin-top:0;\">📢 PYTHON-INTEGRATED SQL</h1>\n",
    "  <ul style=\"margin-top:10px; padding-left:20px;\">\n",
    "    <li><b>Connecting Python to SQL Databases</b></li>\n",
    "    <li><b>Executing SQL Queries Using Python</b></li>\n",
    "    <li><b>Performing SELECT, INSERT, UPDATE, DELETE Operations</b></li>\n",
    "    <li><b>Pandas + SQL Integration (Import SQL data files and Export df files as sql)</b></li>\n",
    "    <li><b>Advanced Querying: Joins & Aggregations</b></li>\n",
    "    <li style=\"color:green;\"><b>💡 Project: Real-World Integration:  Connect → Query → Analyze → Visualize</b></li>\n",
    "  </ul>\n",
    "</div>"
   ]
  },
  {
   "cell_type": "markdown",
   "id": "875ba26d",
   "metadata": {},
   "source": [
    "# Week-VII"
   ]
  },
  {
   "cell_type": "markdown",
   "id": "2f0ab1ff",
   "metadata": {},
   "source": [
    "<div style=\"border:4px solid #1E90FF; background-color:#F0F8FF; padding:15px; border-radius:10px;\">\n",
    "  <h1 style=\"color:#DC143C; margin-top:0;\">📢 Data Visualization</h1>\n",
    "  <ul style=\"margin-top:10px; padding-left:20px;\">\n",
    "    <li><b>Introduction to Matplotlib (Line plots, Bar charts, Histograms)</b></li>\n",
    "    <li><b>Advanced visualizations with Seaborn (Heatmaps, Box plots, Pair plots)</b></li>\n",
    "    <li><b>Customizing plots (labels, legends, styles)</b></li>\n",
    "    <li style=\"color:green;\"><b>💡 Story telling with data</b></li>\n",
    "  </ul>\n",
    "</div>"
   ]
  },
  {
   "cell_type": "markdown",
   "id": "e75b0431",
   "metadata": {},
   "source": [
    "# Week-VIII To XII"
   ]
  },
  {
   "cell_type": "markdown",
   "id": "06d4cc08",
   "metadata": {},
   "source": [
    "<div style=\"border:4px solid #1E90FF; background-color:#F0F8FF; padding:15px; border-radius:10px;\">\n",
    "  <h1 style=\"color:#DC143C; margin-top:0;\">📢 Capstone Project & Real-World Applications</h1>\n",
    "  <ul style=\"margin-top:10px; padding-left:20px;\">\n",
    "    <li><b>End-to-end data analysis project</b></li>\n",
    "    <li><b>Presenting findings</b></li>\n",
    "    <li style=\"color:green;\"><b>💡 Course wrap-up</b></li>\n",
    "  </ul>\n",
    "</div>"
   ]
  },
  {
   "cell_type": "markdown",
   "id": "a6dd7896",
   "metadata": {},
   "source": [
    "# THE END OF MELLA PYTHON !!!"
   ]
  },
  {
   "cell_type": "markdown",
   "id": "f00df604",
   "metadata": {},
   "source": [
    "<div style=\"border:4px solid #1E90FF; background-color:#F0F8FF; padding:15px; border-radius:10px;\">\n",
    "  <h1 style=\"color:#DC143C; margin-top:0; text-align:center;\">THANK YOU VERY MUCH FOR YOUR ATTENTIONS</h1>\n",
    "  <h2 style=\"color:green; margin-bottom:0; text-align:center;\">CONGRATULATIONS !! </h2>\n",
    "  <h3 style=\"margin-bottom:0; text-align:center;\"><span style=\"color:green;\">Practice consistently & Share your knowledge, keep collaborating !</span>\n",
    "  </h3>\n",
    "</div>"
   ]
  },
  {
   "cell_type": "code",
   "execution_count": null,
   "id": "de5eb944",
   "metadata": {},
   "outputs": [],
   "source": []
  },
  {
   "cell_type": "code",
   "execution_count": null,
   "id": "a4d475d5",
   "metadata": {},
   "outputs": [],
   "source": []
  }
 ],
 "metadata": {
  "kernelspec": {
   "display_name": "Python 3 (ipykernel)",
   "language": "python",
   "name": "python3"
  },
  "language_info": {
   "codemirror_mode": {
    "name": "ipython",
    "version": 3
   },
   "file_extension": ".py",
   "mimetype": "text/x-python",
   "name": "python",
   "nbconvert_exporter": "python",
   "pygments_lexer": "ipython3",
   "version": "3.9.12"
  }
 },
 "nbformat": 4,
 "nbformat_minor": 5
}

